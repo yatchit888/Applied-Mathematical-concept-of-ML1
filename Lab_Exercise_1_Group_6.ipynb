{
  "cells": [
    {
      "cell_type": "markdown",
      "metadata": {
        "id": "Alzc44ylVtkG"
      },
      "source": [
        "<p style=\"font-family: Arial; font-size:3em;color:black;\"> Lab 1 </p>"
      ]
    },
    {
      "cell_type": "markdown",
      "metadata": {
        "id": "0-Us7jMfVtkI"
      },
      "source": [
        "**Group 6**\n",
        "\n",
        "Students name in this Group:\n",
        "\n",
        "1. Ahmed Ali\n",
        "2. Nichapat Boonprasertsri\n",
        "3. Anuphap Chansatit\n",
        "4. Karthikeyan Jeyabalasuntharam\n",
        "5. Yat Chit Law\n",
        "6. Halari Shanpru\n",
        "7. Vitchaya Siripoppohn\n",
        "8. Chotiros Srisiam\n"
      ]
    },
    {
      "cell_type": "code",
      "execution_count": 1,
      "metadata": {
        "id": "nR09RQlRVtkI"
      },
      "outputs": [],
      "source": [
        "# importing numpy\n",
        "import numpy as np"
      ]
    },
    {
      "cell_type": "code",
      "execution_count": 2,
      "metadata": {
        "id": "aMWSp2upVtkJ",
        "colab": {
          "base_uri": "https://localhost:8080/"
        },
        "outputId": "d0f1cf2c-ec2b-47a7-a839-706eb7f90fca"
      },
      "outputs": [
        {
          "output_type": "stream",
          "name": "stdout",
          "text": [
            "Test if all elements of random_array are non-zero:  False\n"
          ]
        }
      ],
      "source": [
        "# Create a numpy array with the elements \"1, 2, 3, 5, 0\", print the array and test if all of its elements are non-zero.\n",
        "t1 = np.array([1, 2, 3, 5, 0])\n",
        "print(\"Test if all elements of random_array are non-zero: \", t1.all())"
      ]
    },
    {
      "cell_type": "code",
      "execution_count": 3,
      "metadata": {
        "id": "ZWhRBsf3VtkK",
        "colab": {
          "base_uri": "https://localhost:8080/"
        },
        "outputId": "9c493185-b86c-43d6-abff-57f029c8a6df"
      },
      "outputs": [
        {
          "output_type": "stream",
          "name": "stdout",
          "text": [
            "Test if any element of random_array is non-zero:  True\n"
          ]
        }
      ],
      "source": [
        "# Create a numpy array with the elements \"3, -1, 3, 7, 2\", print the array and test if any of its elements is non-zero.\n",
        "t2 = np.array([3, -1, 3, 7, 2])\n",
        "print(\"Test if any element of random_array is non-zero: \", t2.any())"
      ]
    },
    {
      "cell_type": "code",
      "execution_count": 4,
      "metadata": {
        "id": "R5Du-WC-VtkK",
        "colab": {
          "base_uri": "https://localhost:8080/"
        },
        "outputId": "afbc475c-4f30-411a-d142-aaee5f4efc93"
      },
      "outputs": [
        {
          "output_type": "stream",
          "name": "stdout",
          "text": [
            "Test if any element of random_array is non-zero:  False\n"
          ]
        }
      ],
      "source": [
        "# Create a numpy array with the elements \"0, 0, 0, 0\", print the array and test if any of its elements is non-zero.\n",
        "t3 = np.array([0, 0, 0, 0])\n",
        "print(\"Test if any element of random_array is non-zero: \", t3.any())"
      ]
    },
    {
      "cell_type": "code",
      "execution_count": 6,
      "metadata": {
        "id": "DQCGQy6TVtkK",
        "colab": {
          "base_uri": "https://localhost:8080/"
        },
        "outputId": "94679d70-a9a4-4f16-ef64-1c370471e524"
      },
      "outputs": [
        {
          "output_type": "stream",
          "name": "stdout",
          "text": [
            "Memory size of a is:  24 bits\n"
          ]
        }
      ],
      "source": [
        "# Create a numpy array with the elements \"56, -2, 7\", print the array and the amount of memory required to store it.\n",
        "t4 = np.array([56, -2, 7])\n",
        "print(\"Memory size of a is: \", t4.itemsize*t4.size, \"bits\")"
      ]
    },
    {
      "cell_type": "code",
      "execution_count": 7,
      "metadata": {
        "id": "jZ4qdgLBVtkK",
        "colab": {
          "base_uri": "https://localhost:8080/"
        },
        "outputId": "508dc70f-ff5f-4882-ac91-231b43903d84"
      },
      "outputs": [
        {
          "output_type": "stream",
          "name": "stdout",
          "text": [
            "a numpy array with 10 zeros is:  [0. 0. 0. 0. 0. 0. 0. 0. 0. 0.]\n",
            "a numpy array with 6 ones is:  [1. 1. 1. 1. 1. 1.]\n",
            "a numpy array with 12 '3's is  [3. 3. 3. 3. 3. 3. 3. 3. 3. 3. 3. 3.]\n"
          ]
        }
      ],
      "source": [
        "# Create a numpy array with 10 zeros and print the array.\n",
        "zeros_array = np.zeros(10)\n",
        "print(\"a numpy array with 10 zeros is: \", zeros_array)\n",
        "\n",
        "# Create a numpy array with 6 ones and print the array.\n",
        "ones_array = np.ones(6)\n",
        "print(\"a numpy array with 6 ones is: \", ones_array)\n",
        "\n",
        "# Create a numpy array with 12 '3's and print the array. [3 3 3 3 3 3 3 3 3 3 3 3]\n",
        "threes_array = 3*np.ones(12)\n",
        "print(\"a numpy array with 12 '3's is \", threes_array)"
      ]
    },
    {
      "cell_type": "code",
      "execution_count": 11,
      "metadata": {
        "id": "QzADzGeBVtkK",
        "colab": {
          "base_uri": "https://localhost:8080/"
        },
        "outputId": "691575ba-4f82-42ae-b102-dbed96c431d2"
      },
      "outputs": [
        {
          "output_type": "stream",
          "name": "stdout",
          "text": [
            "a numpy array of the integers from 8 to 20 is  [ 8  9 10 11 12 13 14 15 16 17 18 19 20]\n",
            "a numpy array of the even integers from 8 to 20 is  [ 8 10 12 14 16 18 20]\n"
          ]
        }
      ],
      "source": [
        "# Create a numpy array of the integers from 8 to 20 and print the array. (make sure 20 itself is included) hint:  use \"arange\" method\n",
        "a820 = np.arange(8, 21)\n",
        "print(\"a numpy array of the integers from 8 to 20 is \", a820)\n",
        "\n",
        "# Create a numpy array of the even integers from 8 to 20 and print the array. (make sure 20 itself is included)   hint:  use \"arange\" method\n",
        "a820_even = np.arange(8, 21, 2)\n",
        "print(\"a numpy array of the even integers from 8 to 20 is \", a820_even)"
      ]
    },
    {
      "cell_type": "code",
      "execution_count": 17,
      "metadata": {
        "id": "54sYNU7dVtkL",
        "colab": {
          "base_uri": "https://localhost:8080/"
        },
        "outputId": "86a9e610-a6a0-4466-9d30-c78adea11f5f"
      },
      "outputs": [
        {
          "output_type": "stream",
          "name": "stdout",
          "text": [
            "The array consisting of 100 random elements from normal distribution with mean of 2 and std of 0.5\n",
            "The mean of the elements in the array is:  2.0008744481331773\n",
            "The max element in the array is:  3.7018591050512897\n",
            "The min elements in the array is:  0.3510564168104089\n",
            "The standard deviation of the elements in the array is:  0.5474194812466345 \n",
            "\n",
            "The array consisting of 1000 random elements from normal distribution with mean of 2 and std of 0.5\n",
            "The mean of the elements in the array is:  2.011048131593944\n",
            "The max element in the array is:  3.751750634751203\n",
            "The min elements in the array is:  0.5604699726239954\n",
            "The standard deviation of the elements in the array is:  0.49023118910649754 \n",
            "\n",
            "The array consisting of 1000000 random elements from normal distribution with mean of 2 and std of 0.5\n",
            "The mean of the elements in the array is:  2.0009861668227997\n",
            "The max element in the array is:  4.698214734790932\n",
            "The min elements in the array is:  -0.3965777490503899\n",
            "The standard deviation of the elements in the array is:  0.5006512944079072 \n",
            "\n",
            "Observation result: More elements makes the calculated mean and std close to the defined value.\n",
            "\n",
            "The array consisting of 1000 random elements from normal distribution with mean of 2 and std of 0.5\n",
            "The mean of the elements in the array is:  1.9848672824355122\n",
            "The standard deviation of the elements in the array is:  0.4877519888743707 \n",
            "\n",
            "The array consisting of 5000 random elements from normal distribution with mean of 2 and std of 0.5\n",
            "The mean of the elements in the array is:  2.0187281069794873\n",
            "The standard deviation of the elements in the array is:  0.4977030389496131 \n",
            "\n",
            "The array consisting of 10000 random elements from normal distribution with mean of 2 and std of 0.5\n",
            "The mean of the elements in the array is:  2.00348178900617\n",
            "The standard deviation of the elements in the array is:  0.5015667762681195 \n",
            "\n"
          ]
        }
      ],
      "source": [
        "# Create a numpy array consisting of 100 random elements from normal distribution with mean of 2 and std of 0.5. Print the mean, max, min and std of the array.\n",
        "random100_values_array = np.random.normal(2, 0.5, 100)       # np.random.normal(mean, std, # of elements)\n",
        "print(\"The array consisting of 100 random elements from normal distribution with mean of 2 and std of 0.5\")\n",
        "print(\"The mean of the elements in the array is: \", random100_values_array.mean())\n",
        "print(\"The max element in the array is: \", random100_values_array.max())\n",
        "print(\"The min elements in the array is: \", random100_values_array.min())\n",
        "print(\"The standard deviation of the elements in the array is: \", random100_values_array.std(), \"\\n\")\n",
        "\n",
        "# Create a numpy array consisting of 1000 random elements from normal distribution with mean of 2 and std of 0.5. Print the mean, max, min and std of the array.\n",
        "random1000_values_array = np.random.normal(2, 0.5, 1000)\n",
        "print(\"The array consisting of 1000 random elements from normal distribution with mean of 2 and std of 0.5\")\n",
        "print(\"The mean of the elements in the array is: \", random1000_values_array.mean())\n",
        "print(\"The max element in the array is: \", random1000_values_array.max())\n",
        "print(\"The min elements in the array is: \", random1000_values_array.min())\n",
        "print(\"The standard deviation of the elements in the array is: \", random1000_values_array.std(), \"\\n\")\n",
        "\n",
        "# Create a numpy array consisting of 1000000 random elements from normal distribution with mean of 2 and std of 0.5. Print the mean, max, min and std of the array.\n",
        "random1000000_values_array = np.random.normal(2, 0.5, 1000000)\n",
        "print(\"The array consisting of 1000000 random elements from normal distribution with mean of 2 and std of 0.5\")\n",
        "print(\"The mean of the elements in the array is: \", random1000000_values_array.mean())\n",
        "print(\"The max element in the array is: \", random1000000_values_array.max())\n",
        "print(\"The min elements in the array is: \", random1000000_values_array.min())\n",
        "print(\"The standard deviation of the elements in the array is: \", random1000000_values_array.std(), \"\\n\")\n",
        "\n",
        "# (Bonus question) Looking at the three above examples with 1000, 5000, and 10000 random elements, do you have any observations about mean and std values?\n",
        "print(\"Observation result: More elements makes the calculated mean and std close to the defined value.\\n\")\n",
        "random1000_values_array = np.random.normal(2, 0.5, 1000)\n",
        "print(\"The array consisting of 1000 random elements from normal distribution with mean of 2 and std of 0.5\")\n",
        "print(\"The mean of the elements in the array is: \", random1000_values_array.mean())\n",
        "print(\"The standard deviation of the elements in the array is: \", random1000_values_array.std(), \"\\n\")\n",
        "\n",
        "random5000_values_array = np.random.normal(2, 0.5, 5000)\n",
        "print(\"The array consisting of 5000 random elements from normal distribution with mean of 2 and std of 0.5\")\n",
        "print(\"The mean of the elements in the array is: \", random5000_values_array.mean())\n",
        "print(\"The standard deviation of the elements in the array is: \", random5000_values_array.std(), \"\\n\")\n",
        "\n",
        "random10000_values_array = np.random.normal(2, 0.5, 10000)\n",
        "print(\"The array consisting of 10000 random elements from normal distribution with mean of 2 and std of 0.5\")\n",
        "print(\"The mean of the elements in the array is: \", random10000_values_array.mean())\n",
        "print(\"The standard deviation of the elements in the array is: \", random10000_values_array.std(), \"\\n\")"
      ]
    },
    {
      "cell_type": "code",
      "execution_count": null,
      "metadata": {
        "id": "QR_8_rH7VtkL"
      },
      "outputs": [],
      "source": []
    }
  ],
  "metadata": {
    "kernelspec": {
      "display_name": "Python 3 (ipykernel)",
      "language": "python",
      "name": "python3"
    },
    "language_info": {
      "codemirror_mode": {
        "name": "ipython",
        "version": 3
      },
      "file_extension": ".py",
      "mimetype": "text/x-python",
      "name": "python",
      "nbconvert_exporter": "python",
      "pygments_lexer": "ipython3",
      "version": "3.9.7"
    },
    "colab": {
      "provenance": []
    }
  },
  "nbformat": 4,
  "nbformat_minor": 0
}