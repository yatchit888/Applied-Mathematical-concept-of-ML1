{
  "cells": [
    {
      "cell_type": "markdown",
      "metadata": {
        "id": "Grzme5u4F6ne"
      },
      "source": [
        "<p style=\"font-family: Arial; font-size:3em;color:black;\"> Lab Exercise 3 </p>"
      ]
    },
    {
      "cell_type": "markdown",
      "source": [
        "**Group 6**\n",
        "\n",
        "Students name in this Group:\n",
        "\n",
        "1. Ahmed Ali\n",
        "2. Nichapat Boonprasertsri\n",
        "3. Anuphap Chansatit\n",
        "4. Karthikeyan Jeyabalasuntharam\n",
        "5. Yat Chit Law\n",
        "6. Halari Shanpru\n",
        "7. Vitchaya Siripoppohn\n",
        "8. Chotiros Srisiam\n"
      ],
      "metadata": {
        "id": "izP_Fm4AKiBy"
      }
    },
    {
      "cell_type": "code",
      "execution_count": 10,
      "metadata": {
        "id": "JobbIbrSF6ni",
        "colab": {
          "base_uri": "https://localhost:8080/"
        },
        "outputId": "9de04a1c-6471-4e4e-cc8f-e0521baefdf5"
      },
      "outputs": [
        {
          "output_type": "stream",
          "name": "stdout",
          "text": [
            "Matrix A = \n",
            " [[5 2 3]\n",
            " [6 1 3]\n",
            " [2 4 1]]\n",
            "Matrix B = \n",
            " [[5 2]\n",
            " [6 1]]\n",
            "Matrix C = \n",
            " [[1 3]\n",
            " [4 1]]\n"
          ]
        }
      ],
      "source": [
        "import numpy as np\n",
        "from numpy.linalg import inv\n",
        "from numpy.linalg import det\n",
        "\n",
        "a = np.array([[5, 2, 3],\n",
        "            [6, 1, 3],\n",
        "            [2, 4, 1]])\n",
        "print(\"Matrix A = \\n\", a)\n",
        "\n",
        "b = a[0:2, 0:2]\n",
        "print(\"Matrix B = \\n\", b)\n",
        "\n",
        "c = a[1:3, 1:3]\n",
        "print(\"Matrix C = \\n\", c)"
      ]
    }
  ],
  "metadata": {
    "kernelspec": {
      "display_name": "Python 3 (ipykernel)",
      "language": "python",
      "name": "python3"
    },
    "language_info": {
      "codemirror_mode": {
        "name": "ipython",
        "version": 3
      },
      "file_extension": ".py",
      "mimetype": "text/x-python",
      "name": "python",
      "nbconvert_exporter": "python",
      "pygments_lexer": "ipython3",
      "version": "3.9.7"
    },
    "colab": {
      "provenance": []
    }
  },
  "nbformat": 4,
  "nbformat_minor": 0
}