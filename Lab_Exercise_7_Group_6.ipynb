{
  "cells": [
    {
      "cell_type": "markdown",
      "source": [
        "Group 6:\n",
        "  \n",
        "\n",
        "*  Ahmed Ali\n",
        "*  Anuphap Chansatit\n",
        "*  Chotiros Srisiam\n",
        "*  Halari Shanpru\n",
        "*  Karthikeyan Jeyabalasuntharam\n",
        "*  Nichapat Boonprasertsri\n",
        "*  Vitchaya Siripoppohn\n",
        "*  Yat Chit Law"
      ],
      "metadata": {
        "id": "BwFkRRS0J-7o"
      }
    },
    {
      "cell_type": "markdown",
      "metadata": {
        "id": "915-hnFcAk2F"
      },
      "source": [
        "<p style=\"font-family: Arial; font-size:3em;color:black;\"> Session 4 - Lab Exercise 7</p>"
      ]
    },
    {
      "cell_type": "markdown",
      "metadata": {
        "id": "gtTD_WcZAk2J"
      },
      "source": [
        "We will use the titanic dataset from Kaggle (https://www.kaggle.com/). This is a well-known dataset and we will use it for classification- if the passenger survived or passed away."
      ]
    },
    {
      "cell_type": "code",
      "execution_count": 1,
      "metadata": {
        "id": "qr9ARqmMAk2K"
      },
      "outputs": [],
      "source": [
        "import pandas as pd\n",
        "import numpy as np\n",
        "import matplotlib.pyplot as plt\n",
        "%matplotlib inline"
      ]
    },
    {
      "cell_type": "code",
      "execution_count": 2,
      "metadata": {
        "id": "iAVJX_MeAk2L"
      },
      "outputs": [],
      "source": [
        "training_DF = pd.read_csv('titanic_dataset_GBC.csv')"
      ]
    },
    {
      "cell_type": "code",
      "execution_count": 3,
      "metadata": {
        "id": "FDRfY2zkAk2M"
      },
      "outputs": [],
      "source": [
        "training_DF['Age'].fillna(training_DF['Age'].mean(), inplace=True)"
      ]
    },
    {
      "cell_type": "code",
      "execution_count": 4,
      "metadata": {
        "id": "FMWyylH-Ak2M"
      },
      "outputs": [],
      "source": [
        "training_DF.drop('Cabin',axis=1,inplace=True)"
      ]
    },
    {
      "cell_type": "code",
      "execution_count": 5,
      "metadata": {
        "id": "dzaHCOLrAk2N"
      },
      "outputs": [],
      "source": [
        "training_DF.dropna(inplace=True)"
      ]
    },
    {
      "cell_type": "code",
      "execution_count": 6,
      "metadata": {
        "id": "KO8fxUpgAk2N"
      },
      "outputs": [],
      "source": [
        "sex = pd.get_dummies(training_DF['Sex'])\n",
        "embark = pd.get_dummies(training_DF['Embarked'])"
      ]
    },
    {
      "cell_type": "code",
      "execution_count": 7,
      "metadata": {
        "id": "nCQCkwowAk2N"
      },
      "outputs": [],
      "source": [
        "training_DF.drop(['Sex','Embarked','Name','Ticket'],axis=1,inplace=True)"
      ]
    },
    {
      "cell_type": "code",
      "execution_count": 8,
      "metadata": {
        "id": "gw4c7TvYAk2O"
      },
      "outputs": [],
      "source": [
        "training_DF = pd.concat([training_DF,sex,embark],axis=1)"
      ]
    },
    {
      "cell_type": "code",
      "execution_count": 9,
      "metadata": {
        "id": "0pXj9fIWAk2O"
      },
      "outputs": [],
      "source": [
        "training_DF.drop(['female','C'],axis=1,inplace=True)"
      ]
    },
    {
      "cell_type": "code",
      "execution_count": 10,
      "metadata": {
        "id": "FocnF1JUAk2P"
      },
      "outputs": [],
      "source": [
        "from sklearn.model_selection import train_test_split"
      ]
    },
    {
      "cell_type": "code",
      "execution_count": 11,
      "metadata": {
        "id": "g19H9m89Ak2Q"
      },
      "outputs": [],
      "source": [
        "X_train, X_test, y_train, y_test = train_test_split(training_DF.drop('Survived',axis=1),\n",
        "                                                    training_DF['Survived'], test_size=0.30,\n",
        "                                                    random_state=101)"
      ]
    },
    {
      "cell_type": "code",
      "execution_count": 12,
      "metadata": {
        "id": "l3Dm1JAFAk2Q"
      },
      "outputs": [],
      "source": [
        "from sklearn.linear_model import SGDClassifier\n",
        "from sklearn.preprocessing import MinMaxScaler\n",
        "\n",
        "scaler = MinMaxScaler()\n",
        "X_train = scaler.fit_transform(X_train)"
      ]
    },
    {
      "cell_type": "code",
      "execution_count": null,
      "metadata": {
        "id": "7MgaS9oTAk2R"
      },
      "outputs": [],
      "source": [
        "# let's explore SGDClassifier parameters\n",
        "\n",
        "'''\n",
        "SGDClassifier(\n",
        "    loss='hinge',\n",
        "    penalty='l2',\n",
        "    alpha=0.0001,\n",
        "    l1_ratio=0.15,\n",
        "    fit_intercept=True,\n",
        "    max_iter=1000,\n",
        "    tol=0.001,\n",
        "    shuffle=True,\n",
        "    verbose=0,\n",
        "    epsilon=0.1,\n",
        "    n_jobs=None,\n",
        "    random_state=None,\n",
        "    learning_rate='optimal',\n",
        "    eta0=0.0,\n",
        "    power_t=0.5,\n",
        "    early_stopping=False,\n",
        "    validation_fraction=0.1,\n",
        "    n_iter_no_change=5,\n",
        "    class_weight=None,\n",
        "    warm_start=False,\n",
        "    average=False,\n",
        ")\n",
        "'''\n",
        "\n",
        "# Let's form SGD models with variation in paameters loss and alpha\n",
        "    # loss: 'hinge', 'log', and 'modified_huber'\n",
        "    # alpha: 0.0001 and 0.001\n",
        "    # explain and dicuss your findings\n",
        "\n",
        "\n"
      ]
    },
    {
      "cell_type": "code",
      "execution_count": 29,
      "metadata": {
        "colab": {
          "base_uri": "https://localhost:8080/"
        },
        "id": "4L9ygOQlAk2R",
        "outputId": "e6505681-78d9-4cea-f8cc-424a748af229"
      },
      "outputs": [
        {
          "output_type": "stream",
          "name": "stdout",
          "text": [
            "All Results:\n",
            "0.7540774193548387 {'alpha': 0.0001, 'loss': 'hinge'}\n",
            "0.7813677419354839 {'alpha': 0.0001, 'loss': 'log'}\n",
            "0.6233290322580645 {'alpha': 0.0001, 'loss': 'modified_huber'}\n",
            "0.7846193548387096 {'alpha': 0.001, 'loss': 'hinge'}\n",
            "0.7910193548387097 {'alpha': 0.001, 'loss': 'log'}\n",
            "0.7782064516129032 {'alpha': 0.001, 'loss': 'modified_huber'}\n",
            "Best Parameters: {'alpha': 0.001, 'loss': 'log'}\n"
          ]
        },
        {
          "output_type": "stream",
          "name": "stderr",
          "text": [
            "/usr/local/lib/python3.10/dist-packages/sklearn/linear_model/_stochastic_gradient.py:163: FutureWarning: The loss 'log' was deprecated in v1.1 and will be removed in version 1.3. Use `loss='log_loss'` which is equivalent.\n",
            "  warnings.warn(\n"
          ]
        }
      ],
      "source": [
        "from sklearn.linear_model import SGDClassifier\n",
        "from sklearn.model_selection import GridSearchCV\n",
        "\n",
        "param_grid = {\n",
        "  'loss': ['hinge', 'log', 'modified_huber'],\n",
        "  'alpha': [0.0001, 0.001],\n",
        "  }\n",
        "\n",
        "sgd_clf = SGDClassifier()\n",
        "grid_search = GridSearchCV(sgd_clf, param_grid, cv=5, n_jobs=-1)\n",
        "grid_search.fit(X_train, y_train)\n",
        "best = grid_search.best_params_\n",
        "\n",
        "print(\"All Results:\")\n",
        "cv_results = grid_search.cv_results_\n",
        "for mean_score, params in zip(cv_results['mean_test_score'], cv_results['params']):\n",
        "    print(mean_score, params)\n",
        "\n",
        "print(\"Best Parameters:\", best)\n"
      ]
    },
    {
      "cell_type": "markdown",
      "source": [
        "# Findings:\n",
        "\n",
        "The choice of hyperparameters, especially alpha (regularization strength) and the loss function, has a significant impact on the performance of your SGDClassifier model. The best combination you found was {'alpha': 0.001, 'loss': 'log'}, which achieved the highest accuracy among the tested combinations."
      ],
      "metadata": {
        "id": "oQUVa6yHH14t"
      }
    }
  ],
  "metadata": {
    "kernelspec": {
      "display_name": "Python 3 (ipykernel)",
      "language": "python",
      "name": "python3"
    },
    "language_info": {
      "codemirror_mode": {
        "name": "ipython",
        "version": 3
      },
      "file_extension": ".py",
      "mimetype": "text/x-python",
      "name": "python",
      "nbconvert_exporter": "python",
      "pygments_lexer": "ipython3",
      "version": "3.11.4"
    },
    "colab": {
      "provenance": []
    }
  },
  "nbformat": 4,
  "nbformat_minor": 0
}