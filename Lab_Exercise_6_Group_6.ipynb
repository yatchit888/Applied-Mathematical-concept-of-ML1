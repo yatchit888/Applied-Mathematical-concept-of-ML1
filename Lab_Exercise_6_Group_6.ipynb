{
  "cells": [
    {
      "cell_type": "markdown",
      "metadata": {
        "id": "UviCmcoliXAq"
      },
      "source": [
        "<p style=\"font-family: Arial; font-size:3em;color:black;\"> Session 4 - Lab Exercise 6</p>"
      ]
    },
    {
      "cell_type": "markdown",
      "source": [
        "**Group 6**\n",
        "1. Ahmed Ali\n",
        "2. Nichapat Boonprasertsri\n",
        "3. Anuphap Chansatit\n",
        "4. Karthikeyan Jeyabalasuntharam\n",
        "5. Yat Chit Law\n",
        "6. Halari Shanpru\n",
        "7. Vitchaya Siripoppohn\n",
        "8. Chotiros Srisiam"
      ],
      "metadata": {
        "id": "UemBO5fk6SJO"
      }
    },
    {
      "cell_type": "code",
      "execution_count": 2,
      "metadata": {
        "id": "eYY3AwMkiXAt"
      },
      "outputs": [],
      "source": [
        "# you can download the original Kyphosis dataset from kaggle at https://www.kaggle.com/abbasit/kyphosis-dataset?select=kyphosis.csv\n",
        "\n",
        "import pandas as pd\n",
        "import numpy as np\n",
        "import matplotlib.pyplot as plt\n",
        "%matplotlib inline"
      ]
    },
    {
      "cell_type": "code",
      "execution_count": 3,
      "metadata": {
        "id": "riyZgC0BiXAv"
      },
      "outputs": [],
      "source": [
        "Kyphosis_df = pd.read_csv('kyphosis.csv')"
      ]
    },
    {
      "cell_type": "code",
      "execution_count": 4,
      "metadata": {
        "id": "FZv_b3WfiXAw"
      },
      "outputs": [],
      "source": [
        "from sklearn.model_selection import train_test_split"
      ]
    },
    {
      "cell_type": "code",
      "execution_count": 5,
      "metadata": {
        "id": "aYZtqbpZiXAw"
      },
      "outputs": [],
      "source": [
        "X = Kyphosis_df.drop('Kyphosis',axis=1)\n",
        "y = Kyphosis_df['Kyphosis']"
      ]
    },
    {
      "cell_type": "code",
      "execution_count": 6,
      "metadata": {
        "id": "Za8V-j2GiXAx"
      },
      "outputs": [],
      "source": [
        "X_train, X_test, y_train, y_test = train_test_split(X, y, test_size=0.30)"
      ]
    },
    {
      "cell_type": "code",
      "execution_count": 7,
      "metadata": {
        "id": "RqgmjD72iXAx"
      },
      "outputs": [],
      "source": [
        "from sklearn.tree import DecisionTreeClassifier"
      ]
    },
    {
      "cell_type": "code",
      "execution_count": null,
      "metadata": {
        "id": "ahlZsCDSiXAy"
      },
      "outputs": [],
      "source": [
        "# selecting the right \"parameters/hyperparameters of ML models can significantly affect their performacnce\".\n",
        "# let's begin exploring those parameters more for a DT model.\n",
        "'''\n",
        "DecisionTreeClassifier(\n",
        "    criterion='gini',\n",
        "    splitter='best',\n",
        "    max_depth=None,\n",
        "    min_samples_split=2,\n",
        "    min_samples_leaf=1,\n",
        "    min_weight_fraction_leaf=0.0,\n",
        "    max_features=None,\n",
        "    random_state=None,\n",
        "    max_leaf_nodes=None,\n",
        "    min_impurity_decrease=0.0,\n",
        "    min_impurity_split=None,\n",
        "    class_weight=None,\n",
        "    presort=False,\n",
        ")\n",
        "'''\n",
        "# Let's consider these three parameters: criterion, splitter, min_samples_split\n",
        "    # for parameters consider two cases 'gini' and 'entropy'\n",
        "    # for splitter consider two cases 'best' and 'random'\n",
        "    # for min_samples_split consider two cases 2 and 5\n",
        "    # explain and dicuss your findings"
      ]
    },
    {
      "cell_type": "code",
      "source": [
        "from sklearn.metrics import confusion_matrix\n",
        "\n",
        "# Define a function to evaluate Decision Tree models with different parameters\n",
        "def evaluate_decision_tree(criterion, splitter, min_samples_split):\n",
        "    dt_model = DecisionTreeClassifier(\n",
        "        criterion=criterion,\n",
        "        splitter=splitter,\n",
        "        min_samples_split=min_samples_split,\n",
        "        random_state=42  # You can set a specific random_state for reproducibility\n",
        "    )\n",
        "    dt_model.fit(X_train, y_train)\n",
        "    y_pred = dt_model.predict(X_test)\n",
        "\n",
        "    print(f\"Parameters: Criterion='{criterion}', Splitter='{splitter}', Min Samples Split={min_samples_split}\")\n",
        "\n",
        "    # Calculate confusion matrix using the imported function\n",
        "    cm = confusion_matrix(y_test, y_pred)\n",
        "    print(\"Confusion Matrix:\")\n",
        "    print(cm)\n",
        "\n",
        "    # Calculate precision, recall, and accuracy manually\n",
        "    tp = cm[1,1]\n",
        "    fp = cm[0,1]\n",
        "    fn = cm[1,0]\n",
        "    tn = cm[0,0]\n",
        "    precision = tp / (tp + fp)\n",
        "    recall = tp / (tp + fn)\n",
        "    accuracy = (tp + tn) / (tp + tn + fp + fn)\n",
        "\n",
        "    print(f\"Precision: {precision}\")\n",
        "    print(f\"Recall: {recall}\")\n",
        "    print(f\"Accuracy: {accuracy}\")\n",
        "    print(\"\\n\")\n",
        "\n",
        "# Evaluate the Decision Tree models with different parameter combinations\n",
        "criteria = ['gini', 'entropy']\n",
        "splitters = ['best', 'random']\n",
        "min_samples_splits = [2, 5]\n",
        "\n",
        "for criterion in criteria:\n",
        "    for splitter in splitters:\n",
        "        for min_samples_split in min_samples_splits:\n",
        "            evaluate_decision_tree(criterion, splitter, min_samples_split)"
      ],
      "metadata": {
        "colab": {
          "base_uri": "https://localhost:8080/"
        },
        "id": "dIfQbPGekuOG",
        "outputId": "59bf35d1-c74d-437a-d40c-25113e02ece4"
      },
      "execution_count": 17,
      "outputs": [
        {
          "output_type": "stream",
          "name": "stdout",
          "text": [
            "Parameters: Criterion='gini', Splitter='best', Min Samples Split=2\n",
            "Confusion Matrix:\n",
            "[[19  2]\n",
            " [ 3  1]]\n",
            "Precision: 0.3333333333333333\n",
            "Recall: 0.25\n",
            "Accuracy: 0.8\n",
            "\n",
            "\n",
            "Parameters: Criterion='gini', Splitter='best', Min Samples Split=5\n",
            "Confusion Matrix:\n",
            "[[21  0]\n",
            " [ 3  1]]\n",
            "Precision: 1.0\n",
            "Recall: 0.25\n",
            "Accuracy: 0.88\n",
            "\n",
            "\n",
            "Parameters: Criterion='gini', Splitter='random', Min Samples Split=2\n",
            "Confusion Matrix:\n",
            "[[19  2]\n",
            " [ 3  1]]\n",
            "Precision: 0.3333333333333333\n",
            "Recall: 0.25\n",
            "Accuracy: 0.8\n",
            "\n",
            "\n",
            "Parameters: Criterion='gini', Splitter='random', Min Samples Split=5\n",
            "Confusion Matrix:\n",
            "[[19  2]\n",
            " [ 3  1]]\n",
            "Precision: 0.3333333333333333\n",
            "Recall: 0.25\n",
            "Accuracy: 0.8\n",
            "\n",
            "\n",
            "Parameters: Criterion='entropy', Splitter='best', Min Samples Split=2\n",
            "Confusion Matrix:\n",
            "[[19  2]\n",
            " [ 3  1]]\n",
            "Precision: 0.3333333333333333\n",
            "Recall: 0.25\n",
            "Accuracy: 0.8\n",
            "\n",
            "\n",
            "Parameters: Criterion='entropy', Splitter='best', Min Samples Split=5\n",
            "Confusion Matrix:\n",
            "[[21  0]\n",
            " [ 3  1]]\n",
            "Precision: 1.0\n",
            "Recall: 0.25\n",
            "Accuracy: 0.88\n",
            "\n",
            "\n",
            "Parameters: Criterion='entropy', Splitter='random', Min Samples Split=2\n",
            "Confusion Matrix:\n",
            "[[19  2]\n",
            " [ 3  1]]\n",
            "Precision: 0.3333333333333333\n",
            "Recall: 0.25\n",
            "Accuracy: 0.8\n",
            "\n",
            "\n",
            "Parameters: Criterion='entropy', Splitter='random', Min Samples Split=5\n",
            "Confusion Matrix:\n",
            "[[19  2]\n",
            " [ 3  1]]\n",
            "Precision: 0.3333333333333333\n",
            "Recall: 0.25\n",
            "Accuracy: 0.8\n",
            "\n",
            "\n"
          ]
        }
      ]
    },
    {
      "cell_type": "markdown",
      "source": [
        "# Findings:\n",
        "\n",
        "1. **Criterion Choice (Gini vs. Entropy):** The choice of criterion (either 'gini' or 'entropy') does not significantly affect the model's performance. In all cases, the confusion matrices, precision, recall, and accuracy are nearly identical for the same combination of other parameters.\n",
        "\n",
        "2. **Splitter Choice (Best vs. Random):** The choice of splitter ('best' or 'random') also does not have a substantial impact on model performance. For each combination of criterion and min_samples_split, the results are consistent regardless of the splitter choice.\n",
        "\n",
        "3. **Min Samples Split (2 vs. 5):** Varying the minimum number of samples required to split a node (2 vs. 5) doesn't show a significant pattern in performance. The impact of this parameter appears to be minimal in this specific scenario.\n",
        "\n",
        "4. **Accuracy and Model Evaluation:** The accuracy metric provides an overall measure of model performance. Across all tested parameter combinations, accuracy ranges from 0.8 to 0.88.\n",
        "\n",
        "5. **Precision and Recall:** Precision measures the proportion of true positive predictions among all positive predictions, while recall measures the proportion of true positives among all actual positives. In all cases, precision is 0.333 (or 1.0 for some combinations), and recall is 0.25. These metrics suggest that the models have relatively low precision and recall values."
      ],
      "metadata": {
        "id": "yGgKw_c7tVZl"
      }
    }
  ],
  "metadata": {
    "kernelspec": {
      "display_name": "Python 3 (ipykernel)",
      "language": "python",
      "name": "python3"
    },
    "language_info": {
      "codemirror_mode": {
        "name": "ipython",
        "version": 3
      },
      "file_extension": ".py",
      "mimetype": "text/x-python",
      "name": "python",
      "nbconvert_exporter": "python",
      "pygments_lexer": "ipython3",
      "version": "3.9.7"
    },
    "colab": {
      "provenance": []
    }
  },
  "nbformat": 4,
  "nbformat_minor": 0
}