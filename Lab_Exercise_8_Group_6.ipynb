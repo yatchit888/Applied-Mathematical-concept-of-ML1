{
  "cells": [
    {
      "cell_type": "markdown",
      "metadata": {
        "id": "-sohU-E5fadb"
      },
      "source": [
        "<p style=\"font-family: Arial; font-size:3em;color:black;\"> Lab Exercise 8</p>"
      ]
    },
    {
      "cell_type": "markdown",
      "metadata": {},
      "source": [
        "**Group 6**\n",
        "1. Ahmed Ali\n",
        "2. Nichapat Boonprasertsri\n",
        "3. Anuphap Chansatit\n",
        "4. Karthikeyan Jeyabalasuntharam\n",
        "5. Yat Chit Law\n",
        "6. Halari Shanpru\n",
        "7. Vitchaya Siripoppohn\n",
        "8. Chotiros Srisiam"
      ]
    },
    {
      "cell_type": "code",
      "execution_count": 36,
      "metadata": {
        "id": "08Yh3UEafadd"
      },
      "outputs": [],
      "source": [
        "import numpy as np\n",
        "import matplotlib.pyplot as plt\n",
        "from sklearn import svm, datasets\n",
        "\n",
        "from sklearn.datasets import load_iris\n",
        "from sklearn.model_selection import train_test_split, GridSearchCV\n",
        "from sklearn.preprocessing import StandardScaler\n",
        "from sklearn.svm import SVC\n",
        "from sklearn.metrics import accuracy_score"
      ]
    },
    {
      "cell_type": "code",
      "execution_count": 49,
      "metadata": {
        "colab": {
          "base_uri": "https://localhost:8080/"
        },
        "id": "bRGyQs7pfade",
        "outputId": "e54491e1-5cb6-4e9f-8352-1e239362d1d9",
        "scrolled": false
      },
      "outputs": [
        {
          "name": "stdout",
          "output_type": "stream",
          "text": [
            "iris dataset [[5.1 3.5 1.4 0.2]\n",
            " [4.9 3.  1.4 0.2]\n",
            " [4.7 3.2 1.3 0.2]\n",
            " [4.6 3.1 1.5 0.2]\n",
            " [5.  3.6 1.4 0.2]\n",
            " [5.4 3.9 1.7 0.4]\n",
            " [4.6 3.4 1.4 0.3]\n",
            " [5.  3.4 1.5 0.2]\n",
            " [4.4 2.9 1.4 0.2]\n",
            " [4.9 3.1 1.5 0.1]]\n",
            "iris target [0 0 0 0 0 0 0 0 0 0]\n"
          ]
        }
      ],
      "source": [
        "# Import the built-in iris dataset to work with\n",
        "iris = datasets.load_iris() # the dataset consists of 3 different types of irises' (Setosa, Versicolour, and Virginica) petal and sepal length\n",
        "print(\"iris dataset\",iris.data[:10,:])\n",
        "X = iris.data[:, :2] # We only want to use the first two features (Sepal Length, Sepal Width)\n",
        "y = iris.target # corresponding to 'setosa', 'versicolor', 'virginica\n",
        "print(\"iris target\",y[:10,])"
      ]
    },
    {
      "cell_type": "code",
      "execution_count": 56,
      "metadata": {
        "id": "w634eEsZhpXZ"
      },
      "outputs": [],
      "source": [
        "X_train, X_test, y_train, y_test = train_test_split(X, y, test_size=0.2, random_state=10)"
      ]
    },
    {
      "cell_type": "code",
      "execution_count": 57,
      "metadata": {
        "id": "xJLN956-hqcp"
      },
      "outputs": [],
      "source": [
        "scaler = StandardScaler()\n",
        "X_train = scaler.fit_transform(X_train)\n",
        "X_test = scaler.transform(X_test)"
      ]
    },
    {
      "cell_type": "code",
      "execution_count": 58,
      "metadata": {
        "id": "IYfOWwCuhw4Z"
      },
      "outputs": [],
      "source": [
        "svm_classifier = SVC(kernel='linear', random_state=10)"
      ]
    },
    {
      "cell_type": "code",
      "execution_count": 58,
      "metadata": {
        "id": "CGmUH8EEhyVc"
      },
      "outputs": [],
      "source": []
    },
    {
      "cell_type": "code",
      "execution_count": 59,
      "metadata": {
        "colab": {
          "base_uri": "https://localhost:8080/"
        },
        "id": "aHyHqWJTfadf",
        "outputId": "5457d326-e66b-4079-8f6e-47cd053af1b5"
      },
      "outputs": [
        {
          "name": "stdout",
          "output_type": "stream",
          "text": [
            "Accuracy: 0.86667\n"
          ]
        }
      ],
      "source": [
        "# svm\n",
        "svm_classifier.fit(X_train, y_train)\n",
        "\n",
        "y_pred = svm_classifier.predict(X_test)\n",
        "\n",
        "accuracy = accuracy_score(y_test, y_pred)\n",
        "print(f\"Accuracy: {accuracy:.5f}\")"
      ]
    },
    {
      "cell_type": "code",
      "execution_count": 60,
      "metadata": {
        "colab": {
          "base_uri": "https://localhost:8080/"
        },
        "id": "PBn5Zt9xfreY",
        "outputId": "cf9e36a9-9324-454f-b61e-7bb325651d08"
      },
      "outputs": [
        {
          "name": "stdout",
          "output_type": "stream",
          "text": [
            "Best Hyperparameters: {'C': 0.1, 'gamma': 0.1, 'kernel': 'linear'}\n",
            "Accuracy: 0.83333\n"
          ]
        }
      ],
      "source": [
        "# grid search\n",
        "param_grid = {\n",
        "    'C': [0.1, 1, 10],\n",
        "    'kernel': ['linear', 'rbf'],\n",
        "    'gamma': [0.1, 1, 'scale', 'auto']\n",
        "}\n",
        "\n",
        "grid_search = GridSearchCV(svm_classifier, param_grid, cv=5)\n",
        "grid_search.fit(X_train, y_train)\n",
        "\n",
        "best_params = grid_search.best_params_\n",
        "print(f\"Best Hyperparameters: {best_params}\")\n",
        "\n",
        "best_svm_classifier = grid_search.best_estimator_\n",
        "\n",
        "y_pred = best_svm_classifier.predict(X_test)\n",
        "accuracy = accuracy_score(y_test, y_pred)\n",
        "print(f\"Accuracy: {accuracy:.5f}\")"
      ]
    },
    {
      "cell_type": "code",
      "execution_count": 61,
      "metadata": {
        "colab": {
          "base_uri": "https://localhost:8080/"
        },
        "id": "iIpSW7tHf3Hv",
        "outputId": "1e1093d1-7435-4f07-9c78-7079e2d6400b"
      },
      "outputs": [
        {
          "name": "stdout",
          "output_type": "stream",
          "text": [
            "From changing parameters, such as random seed, grid search parameters, and such. The accuracy of the two models are likely the same (around 5 percents differnce)\n"
          ]
        }
      ],
      "source": [
        "# Compare the accuracies of the above two models\n",
        "print(\"From changing parameters, such as random seed, grid search parameters, and such. The accuracy of the two models are likely the same (around 5 percents differnce)\")"
      ]
    },
    {
      "cell_type": "code",
      "execution_count": null,
      "metadata": {
        "id": "DoAlKAA8jGfa"
      },
      "outputs": [],
      "source": []
    }
  ],
  "metadata": {
    "colab": {
      "provenance": []
    },
    "kernelspec": {
      "display_name": "Python 3 (ipykernel)",
      "language": "python",
      "name": "python3"
    },
    "language_info": {
      "codemirror_mode": {
        "name": "ipython",
        "version": 3
      },
      "file_extension": ".py",
      "mimetype": "text/x-python",
      "name": "python",
      "nbconvert_exporter": "python",
      "pygments_lexer": "ipython3",
      "version": "3.9.7"
    }
  },
  "nbformat": 4,
  "nbformat_minor": 0
}
